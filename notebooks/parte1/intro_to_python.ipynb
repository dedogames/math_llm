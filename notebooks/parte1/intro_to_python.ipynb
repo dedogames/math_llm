{
 "cells": [
  {
   "cell_type": "markdown",
   "metadata": {},
   "source": [
    "# Intrudocução ao Python\n",
    "Este notebook serve como uma introdução à programação em Python. Vamos abordar conceitos básicos como variáveis, tipos de dados, estruturas de controle, funções e mais."
   ]
  },
  {
   "cell_type": "code",
   "execution_count": 2,
   "metadata": {},
   "outputs": [
    {
     "name": "stdout",
     "output_type": "stream",
     "text": [
      "Soma: 15\n",
      "Olá, Mundo! 3.14 [1, 2, 3, 4, 5]\n",
      "0\n",
      "1\n",
      "2\n",
      "3\n",
      "4\n",
      "Olá, Alice!\n"
     ]
    }
   ],
   "source": [
    "# Conceitos básicos de Python\n",
    "\n",
    "# 1. Variáveis\n",
    "x = 10\n",
    "y = 5\n",
    "print(\"Soma:\", x + y)\n",
    "\n",
    "# 2. Tipos de Dados\n",
    "uma_string = \"Olá, Mundo!\"\n",
    "um_float = 3.14\n",
    "uma_lista = [1, 2, 3, 4, 5]\n",
    "print(uma_string, um_float, uma_lista)\n",
    "\n",
    "# 3. Estruturas de Controle\n",
    "for i in range(5):\n",
    "    print(i)\n",
    "\n",
    "# 4. Funções\n",
    "def saudacao(nome):\n",
    "    return f\"Olá, {nome}!\"\n",
    "\n",
    "print(saudacao(\"Alice\"))"
   ]
  },
  {
   "cell_type": "markdown",
   "metadata": {},
   "source": [
    "## Conclusão\n",
    "\n",
    "Neste notebook, cobrimos alguns conceitos fundamentais de programação em Python. Experimente modificar e executar os códigos acima para praticar!"
   ]
  }
 ],
 "metadata": {
  "kernelspec": {
   "display_name": "Python 3",
   "language": "python",
   "name": "python3"
  },
  "language_info": {
   "name": "python",
   "version": "3.x"
  }
 },
 "nbformat": 4,
 "nbformat_minor": 2
}
